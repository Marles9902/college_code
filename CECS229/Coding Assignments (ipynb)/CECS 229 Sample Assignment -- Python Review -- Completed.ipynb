{
 "cells": [
  {
   "cell_type": "markdown",
   "id": "5f983616",
   "metadata": {},
   "source": [
    "# CECS 229 Sample Assignment: Python Review\n",
    "\n",
    "#### Due Date:\n",
    "\n",
    "Sunday, 1/23 @ 11:59 PM\n",
    "\n",
    "#### Objectives:\n",
    "\n",
    "1. Review Python functions and classes.\n",
    "2. Know how to convert an .ipynb file to .py\n",
    "3. Understand how to submit work to and read feedback given by, CodePost.\n",
    "\n",
    "#### Directions \n",
    "\n",
    "Complete the coding problems below.  When you are finished, convert your notebook to a .py file named `practice.py` and submit it to the appropriate CodePost auto-grader folder.  Please note that this assignment is for practice only and does not affect your grade.\n"
   ]
  },
  {
   "cell_type": "markdown",
   "id": "271bbc3d",
   "metadata": {},
   "source": [
    "-----------------------------------\n",
    "#### Problem 1:\n",
    "\n",
    "Create a function `hello(subject)` that returns the string “Hello, (insert subject here)!” using the input subject.\n",
    "\n",
    "INPUT: `subject` - a string representing the subject to include in the greeting\n",
    "\n",
    "OUTPUT: the greeting as a string"
   ]
  },
  {
   "cell_type": "code",
   "execution_count": 10,
   "id": "aa9e4b02",
   "metadata": {},
   "outputs": [],
   "source": [
    "def hello(subject):\n",
    "    return f\"Hello, {subject}!\"  \n",
    "# this is known as an f-string\n",
    "#i.e. the 'f' is signal to the interpreter \n",
    "#that we are going to format/insert into the string"
   ]
  },
  {
   "cell_type": "markdown",
   "id": "23a0be4b",
   "metadata": {},
   "source": [
    "----------------------------------------------------------------------------\n",
    "#### Problem 2\n",
    "\n",
    "Create a class named `Bug` with the following attributes and interface implementation:\n",
    "\n",
    "* **Attributes:**\n",
    "    - `name` – a string representing the name of this `Bug` object.\n",
    "    - `position` – a list with two elements, representing the location of the Bug object on the xy-plane.  The first element represents the x-coordinate, while the second element represents the y-coordinate.\n",
    "* **Interface:**\n",
    "    - `__init__(self, name, position = [0, 0])`: constructor that initializes a Bug object with given name and position.  If the position is not given, then the Bug’s position is initialized at the origin.\n",
    "    - `move_up(self, units)`: moves the position of this Bug object up by given number of units (int).\n",
    "    - `move_down(self, units)`: moves the position of this Bug object down by given number of units (int).\n",
    "    - `move_left(self, units)`: moves the position of this Bug object left by given number of units (int).\n",
    "    - `move_right(self, units)`: moves the position of this Bug object right by given number of units (int).\n",
    "    - `__str__(self)`: returns a string representation of this Bug object containing the name and position.  The string should be formatted as follows:\n",
    "                Name: <insert name here>\n",
    "                Position: (<insert x>, <insert y>)\n"
   ]
  },
  {
   "cell_type": "code",
   "execution_count": 8,
   "id": "fb89164a",
   "metadata": {},
   "outputs": [],
   "source": [
    "class Bug:\n",
    "    \n",
    "      \n",
    "    def __init__(self, name, position = [0, 0]):\n",
    "        self.name = name\n",
    "        self.position = position # [x, y]\n",
    "        return\n",
    "        \n",
    "        \n",
    "    def move_up(self, units):\n",
    "        \"\"\"\n",
    "        moves the Bug's position up by the given number of units\n",
    "        INPUT: units - int\n",
    "        OUTPUT: None\n",
    "        \"\"\"\n",
    "        self.position[1] += units \n",
    "        return\n",
    "        \n",
    "    def move_down(self, units):\n",
    "        \"\"\"\n",
    "        moves the Bug's position down by the given number of units\n",
    "        INPUT: units - int\n",
    "        OUTPUT: None\n",
    "        \"\"\"\n",
    "        self.position[1] -= units \n",
    "        return\n",
    "        \n",
    "    def move_right(self, units):\n",
    "        \"\"\"\n",
    "        moves the Bug's position right by the given number of units\n",
    "        INPUT: units - int\n",
    "        OUTPUT: None\n",
    "        \"\"\"\n",
    "        self.position[0] += units \n",
    "        return\n",
    "        \n",
    "    def move_left(self, units):\n",
    "        \"\"\"\n",
    "        moves the Bug's position left by the given number of units\n",
    "        INPUT: units - int\n",
    "        OUTPUT: None\n",
    "        \"\"\"\n",
    "        self.position[0] -= units \n",
    "        return\n",
    "    \n",
    "    def __str__(self):\n",
    "        return f\"Name: {self.name}\\nPosition: {tuple(self.position)}\" \n",
    "    # we change to tuple only for display purposes\n",
    "        \n",
    "        "
   ]
  },
  {
   "cell_type": "code",
   "execution_count": null,
   "id": "4ef178f8",
   "metadata": {},
   "outputs": [],
   "source": []
  }
 ],
 "metadata": {
  "kernelspec": {
   "display_name": "Python 3",
   "language": "python",
   "name": "python3"
  },
  "language_info": {
   "codemirror_mode": {
    "name": "ipython",
    "version": 3
   },
   "file_extension": ".py",
   "mimetype": "text/x-python",
   "name": "python",
   "nbconvert_exporter": "python",
   "pygments_lexer": "ipython3",
   "version": "3.8.8"
  }
 },
 "nbformat": 4,
 "nbformat_minor": 5
}
