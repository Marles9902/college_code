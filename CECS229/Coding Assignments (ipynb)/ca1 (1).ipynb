{
 "cells": [
  {
   "cell_type": "markdown",
   "metadata": {},
   "source": [
    "# CECS 229: Coding Assignment #1\n",
    "\n",
    "#### Due Date: \n",
    "\n",
    "Sunday, 2/6 @ 11:59 PM\n",
    "\n",
    "#### Submission Instructions:\n",
    "\n",
    "To receive credit for this assignment you must submit the following by the due date:\n",
    "\n",
    "1. **To the BB Dropbox Folder:** this completed .ipynb file\n",
    "\n",
    "2. **To CodePost:** this file converted to a Python script named `ca1.py`\n",
    "\n",
    "#### Objectives:\n",
    "\n",
    "1. Compute the quotient and remainder of two numbers.\n",
    "2. Apply numerical algorithms for computing the sum of two numbers in binary representation.\n",
    "3. Apply numerical algorithms for computing the modular exponentiation of a positive integer.\n",
    "\n"
   ]
  },
  {
   "cell_type": "markdown",
   "metadata": {},
   "source": [
    "--------------------------------\n",
    "\n",
    "#### Problem 1:\n",
    "\n",
    "Program a function `div_alg(a, d)` that computes the quotient and remainder of two integers `a` and `d`, according to the Division Algorithm (THM 4.1.1).   \n",
    "\n",
    "The function should satisfy the following:\n",
    "\n",
    "1. INPUT: \n",
    "    * `a` - an integer representing the dividend\n",
    "    * `d` - positive integer representing the divisor\n",
    "\n",
    "    \n",
    "2. OUTPUT:\n",
    "    * a dictionary of the form `{'quotient' : q, 'remainder' : r}` where `q` and `r` are the quotient and remainder values, respectively.  The remainder should satisfy, $0 \\leq r < d$.\n",
    "\n",
    " \n",
    "EXAMPLE: \n",
    "\n",
    "`>> div_alg( 101 , 11 )`\n",
    "\n",
    "`{'quotient' : 9, 'remainder' : 2}`\n",
    "\n",
    "\n"
   ]
  },
  {
   "cell_type": "code",
   "execution_count": 50,
   "metadata": {},
   "outputs": [
    {
     "name": "stdout",
     "output_type": "stream",
     "text": [
      "{'quotient': 9, 'remainder': 2}\n"
     ]
    }
   ],
   "source": [
    "def div_alg(a, d):\n",
    "    q = a // d     # use integer division to find the quotient\n",
    "    r = a % d     # use modulo to find the remainder\n",
    "    return {'quotient' : q, 'remainder' : r}     # return as dictionary "
   ]
  },
  {
   "cell_type": "markdown",
   "metadata": {},
   "source": [
    "--------------------------------\n",
    "\n",
    "#### Problem 2:\n",
    "\n",
    "Program a function `binary_add(a, b)` that computes the sum of the binary numbers  $$a = (a_{i-1}, a_{i-2}, \\dots, a_0)_2$$ and $$b = (b_{j-1}, b_{j-2}, \\dots, b_0)_2$$ using the algorithm discussed in lecture.  No credit will be given to functions that employ any other implementation.  The function can not use built-in functions that already perform some kind of binary representation or addition of binary numbers.  For example, the function implementation can **not** use the functions `bin()` or `int(a, base=2)`.\n",
    "\n",
    "The function should satisfy the following:\n",
    "\n",
    "1. INPUT: \n",
    "    * `a` - a string of the 0's and 1's that make up the first binary number.  The string *may* contain spaces.\n",
    "    * `b` - a string of the 0's and 1's that make up the first binary number.  The string *may* contain spaces.\n",
    "\n",
    "    \n",
    "2. OUTPUT:\n",
    "    * the string of 0's and 1's that is the result of computing $a + b$.  The string must be separated by spaces into blocks of 4 characters or less, beginning at the end of the string.\n",
    "\n",
    " \n",
    "EXAMPLE: \n",
    "\n",
    "`>> binary_add( '10 1011' , '11011')`\n",
    "\n",
    "`'100 0110'`\n",
    "\n",
    "\n"
   ]
  },
  {
   "cell_type": "code",
   "execution_count": 63,
   "metadata": {},
   "outputs": [
    {
     "name": "stdout",
     "output_type": "stream",
     "text": [
      "11\n"
     ]
    }
   ],
   "source": [
    "def binary_add(a, b):\n",
    "    # declare variables\n",
    "    c = 0     # carry \n",
    "    s = \"\"     # placeholder for the pre-formatted outcome\n",
    "    s_f = \"\"     # placeholder for the formatted outcome\n",
    "    \n",
    "    # remove the whitespaces from the input (if any)\n",
    "    a = a.replace(\" \", \"\")\n",
    "    b = b.replace(\" \", \"\")\n",
    "    \n",
    "    # match the lengths of both inputs \n",
    "    length = max(len(a), len(b))\n",
    "    a = (length - len(a))*\"0\" + a\n",
    "    b = (length - len(b))*\"0\" + b\n",
    "    \n",
    "    # for each bit\n",
    "    for i in range(length-1, -1, - 1):\n",
    "        s = str((int(a[i]) + int(b[i]) + c) % 2) + s     # update the answer\n",
    "        c = (int(a[i]) + int(b[i]) + c) // 2     # update the carry \n",
    "        \n",
    "    # if there is a carry, add 1 to MSB\n",
    "    if (c):\n",
    "        s = '1' + s\n",
    "        \n",
    "    # formatting the bits to be in groups of nibbles    \n",
    "    \n",
    "    for i in range(len(s)-4, 0, -4):\n",
    "        s_f = \" \" + s[i:i+4] + s_f\n",
    "\n",
    "    # formatted answer\n",
    "    s_f = s[0:i] + s_f\n",
    "    \n",
    "    # check length of s to determine which answer should be returned\n",
    "    if len(s)>=4:\n",
    "        return s_f\n",
    "    else:\n",
    "        return s"
   ]
  },
  {
   "cell_type": "markdown",
   "metadata": {},
   "source": [
    "--------------------------------\n",
    "\n",
    "#### Problem 3:\n",
    "\n",
    "Program a function `mod_exp(b, n, m)` that computes $$b^n \\mod m$$ using the algorithm discussed in lecture.  No credit will be given to functions that employ any other implementation.  For example, if the function implementation simply consists of `b ** n % m`, no credit will be given.  \n",
    "\n",
    "The function should satisfy the following:\n",
    "\n",
    "1. INPUT: \n",
    "    * `b` - positive integer representing the base\n",
    "    * `n` - positive integer representing the exponent\n",
    "    * `m` - positive integer representing the modulo\n",
    "\n",
    "    \n",
    "2. OUTPUT:\n",
    "    * the computation of $b^n \\mod m$ if b, n, m are positive integers, 0 otherwise.\n",
    "\n",
    " \n",
    "EXAMPLE: \n",
    "\n",
    "`>> mod_exp( 3 , 644, 645 )`\n",
    "\n",
    "`36`\n",
    "\n",
    "\n"
   ]
  },
  {
   "cell_type": "code",
   "execution_count": 45,
   "metadata": {},
   "outputs": [
    {
     "name": "stdout",
     "output_type": "stream",
     "text": [
      "436\n"
     ]
    }
   ],
   "source": [
    "def mod_exp(b, n, m):\n",
    "    # check if inputs are positive integers\n",
    "    if b>=0 and n>=0 and m>=0:\n",
    "        x = 1\n",
    "        p = b % m\n",
    "        a = bin(n)     # get the binary form of the exponent\n",
    "        a = a[2:]     # get rid of '0b'\n",
    "\n",
    "        # for each bit in the exponent\n",
    "        for i in range(len(a)-1, -1, -1):\n",
    "            if int(a[i]) == 1:     # if the bit is 1\n",
    "                x = (x * p) % m     # update x \n",
    "            p = (p * p) % m     # update p \n",
    "    else:     # if any input is negative, set x to 0\n",
    "        x = 0\n",
    "    return x "
   ]
  },
  {
   "cell_type": "code",
   "execution_count": null,
   "metadata": {},
   "outputs": [],
   "source": []
  }
 ],
 "metadata": {
  "kernelspec": {
   "display_name": "Python 3 (ipykernel)",
   "language": "python",
   "name": "python3"
  },
  "language_info": {
   "codemirror_mode": {
    "name": "ipython",
    "version": 3
   },
   "file_extension": ".py",
   "mimetype": "text/x-python",
   "name": "python",
   "nbconvert_exporter": "python",
   "pygments_lexer": "ipython3",
   "version": "3.9.7"
  }
 },
 "nbformat": 4,
 "nbformat_minor": 2
}
